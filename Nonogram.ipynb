{
  "nbformat": 4,
  "nbformat_minor": 0,
  "metadata": {
    "colab": {
      "name": "Projekt IO.ipynb",
      "provenance": [],
      "collapsed_sections": []
    },
    "kernelspec": {
      "name": "python3",
      "display_name": "Python 3"
    },
    "language_info": {
      "name": "python"
    }
  },
  "cells": [
    {
      "cell_type": "markdown",
      "source": [
        "# Algorytm genetyczny"
      ],
      "metadata": {
        "id": "LdQStGeloNI2"
      }
    },
    {
      "cell_type": "markdown",
      "source": [
        "### Importowanie potrzebnych bibliotek"
      ],
      "metadata": {
        "id": "IIYpnZVcdtoD"
      }
    },
    {
      "cell_type": "code",
      "source": [
        "pip install pygad"
      ],
      "metadata": {
        "colab": {
          "base_uri": "https://localhost:8080/"
        },
        "id": "QYyMJIhkd9Vf",
        "outputId": "5678e49a-88c8-47c9-a3f2-2b374d4e671c"
      },
      "execution_count": 90,
      "outputs": [
        {
          "output_type": "stream",
          "name": "stdout",
          "text": [
            "Requirement already satisfied: pygad in /usr/local/lib/python3.7/dist-packages (2.16.3)\n",
            "Requirement already satisfied: matplotlib in /usr/local/lib/python3.7/dist-packages (from pygad) (3.2.2)\n",
            "Requirement already satisfied: numpy in /usr/local/lib/python3.7/dist-packages (from pygad) (1.21.6)\n",
            "Requirement already satisfied: pyparsing!=2.0.4,!=2.1.2,!=2.1.6,>=2.0.1 in /usr/local/lib/python3.7/dist-packages (from matplotlib->pygad) (3.0.8)\n",
            "Requirement already satisfied: cycler>=0.10 in /usr/local/lib/python3.7/dist-packages (from matplotlib->pygad) (0.11.0)\n",
            "Requirement already satisfied: python-dateutil>=2.1 in /usr/local/lib/python3.7/dist-packages (from matplotlib->pygad) (2.8.2)\n",
            "Requirement already satisfied: kiwisolver>=1.0.1 in /usr/local/lib/python3.7/dist-packages (from matplotlib->pygad) (1.4.2)\n",
            "Requirement already satisfied: typing-extensions in /usr/local/lib/python3.7/dist-packages (from kiwisolver>=1.0.1->matplotlib->pygad) (4.2.0)\n",
            "Requirement already satisfied: six>=1.5 in /usr/local/lib/python3.7/dist-packages (from python-dateutil>=2.1->matplotlib->pygad) (1.15.0)\n"
          ]
        }
      ]
    },
    {
      "cell_type": "code",
      "source": [
        "pip install pyswarms"
      ],
      "metadata": {
        "colab": {
          "base_uri": "https://localhost:8080/"
        },
        "id": "6IQZM1imeGTT",
        "outputId": "43223153-b6d2-43ff-a8d4-49f432d141d7"
      },
      "execution_count": 91,
      "outputs": [
        {
          "output_type": "stream",
          "name": "stdout",
          "text": [
            "Requirement already satisfied: pyswarms in /usr/local/lib/python3.7/dist-packages (1.3.0)\n",
            "Requirement already satisfied: attrs in /usr/local/lib/python3.7/dist-packages (from pyswarms) (21.4.0)\n",
            "Requirement already satisfied: scipy in /usr/local/lib/python3.7/dist-packages (from pyswarms) (1.4.1)\n",
            "Requirement already satisfied: matplotlib>=1.3.1 in /usr/local/lib/python3.7/dist-packages (from pyswarms) (3.2.2)\n",
            "Requirement already satisfied: pyyaml in /usr/local/lib/python3.7/dist-packages (from pyswarms) (3.13)\n",
            "Requirement already satisfied: tqdm in /usr/local/lib/python3.7/dist-packages (from pyswarms) (4.64.0)\n",
            "Requirement already satisfied: numpy in /usr/local/lib/python3.7/dist-packages (from pyswarms) (1.21.6)\n",
            "Requirement already satisfied: future in /usr/local/lib/python3.7/dist-packages (from pyswarms) (0.16.0)\n",
            "Requirement already satisfied: cycler>=0.10 in /usr/local/lib/python3.7/dist-packages (from matplotlib>=1.3.1->pyswarms) (0.11.0)\n",
            "Requirement already satisfied: pyparsing!=2.0.4,!=2.1.2,!=2.1.6,>=2.0.1 in /usr/local/lib/python3.7/dist-packages (from matplotlib>=1.3.1->pyswarms) (3.0.8)\n",
            "Requirement already satisfied: kiwisolver>=1.0.1 in /usr/local/lib/python3.7/dist-packages (from matplotlib>=1.3.1->pyswarms) (1.4.2)\n",
            "Requirement already satisfied: python-dateutil>=2.1 in /usr/local/lib/python3.7/dist-packages (from matplotlib>=1.3.1->pyswarms) (2.8.2)\n",
            "Requirement already satisfied: typing-extensions in /usr/local/lib/python3.7/dist-packages (from kiwisolver>=1.0.1->matplotlib>=1.3.1->pyswarms) (4.2.0)\n",
            "Requirement already satisfied: six>=1.5 in /usr/local/lib/python3.7/dist-packages (from python-dateutil>=2.1->matplotlib>=1.3.1->pyswarms) (1.15.0)\n"
          ]
        }
      ]
    },
    {
      "cell_type": "code",
      "execution_count": 92,
      "metadata": {
        "id": "v_LY11p0dinI"
      },
      "outputs": [],
      "source": [
        "import numpy\n",
        "import pygad\n",
        "import time\n",
        "import pyswarms as ps\n",
        "from pyswarms.utils.plotters import plot_cost_history\n",
        "import matplotlib.pyplot as plt"
      ]
    },
    {
      "cell_type": "markdown",
      "source": [
        "### Tworzenie Nonogramu"
      ],
      "metadata": {
        "id": "GM5hTHcheg6b"
      }
    },
    {
      "cell_type": "code",
      "source": [
        "kolumny = numpy.array([[7], [1], [1], [1], [7]])\n",
        "wiersze = numpy.array([[1,1], [1,1], [1,1], [5], [1,1], [1,1], [1,1]])\n",
        "\n",
        "table = numpy.array([[1,0,0,0,1],   # prawidłowy obraz\n",
        "                    [1,0,0,0,1],\n",
        "                    [1,0,0,0,1],\n",
        "                    [1,1,1,1,1],\n",
        "                    [1,0,0,0,1],\n",
        "                    [1,0,0,0,1],\n",
        "                    [1,0,0,0,1]])"
      ],
      "metadata": {
        "colab": {
          "base_uri": "https://localhost:8080/"
        },
        "id": "jXZhg5X5d2-0",
        "outputId": "db96898d-991e-432a-f684-41b55d8cc669"
      },
      "execution_count": 93,
      "outputs": [
        {
          "output_type": "stream",
          "name": "stderr",
          "text": [
            "/usr/local/lib/python3.7/dist-packages/ipykernel_launcher.py:2: VisibleDeprecationWarning: Creating an ndarray from ragged nested sequences (which is a list-or-tuple of lists-or-tuples-or ndarrays with different lengths or shapes) is deprecated. If you meant to do this, you must specify 'dtype=object' when creating the ndarray.\n",
            "  \n"
          ]
        }
      ]
    },
    {
      "cell_type": "markdown",
      "source": [
        "### Tworzenie funkcji fitness"
      ],
      "metadata": {
        "id": "8BBYVfuTfBAJ"
      }
    },
    {
      "cell_type": "code",
      "source": [
        "def fitness_func(solution, solution_idx):\n",
        "    solution = numpy.reshape(solution, (7,5))\n",
        "    fitness = -numpy.sum(numpy.abs(table - solution))\n",
        "    return fitness"
      ],
      "metadata": {
        "id": "odEypHtjfAEP"
      },
      "execution_count": 94,
      "outputs": []
    },
    {
      "cell_type": "markdown",
      "source": [
        "Powyższa funkcja fitness wylicza sumę błędnych przewidywań rozwiązania"
      ],
      "metadata": {
        "id": "mD4J1CLxfPlI"
      }
    },
    {
      "cell_type": "markdown",
      "source": [
        "### Parametry do algorytmu genetycznego"
      ],
      "metadata": {
        "id": "jVJgKRNPfklY"
      }
    },
    {
      "cell_type": "code",
      "source": [
        "fitness_function = fitness_func\n",
        "\n",
        "gene_space = [0,1]\n",
        "sol_per_pop = 8\n",
        "num_genes = len(kolumny)*len(wiersze)\n",
        "\n",
        "num_parents_mating = 5\n",
        "num_generations = 200\n",
        "keep_parents = 2\n",
        "\n",
        "parent_selection_type = \"sss\"\n",
        "\n",
        "crossover_type = \"single_point\"\n",
        "\n",
        "mutation_type = \"random\"\n",
        "mutation_percent_genes = 6"
      ],
      "metadata": {
        "id": "48-kPdetd3Mv"
      },
      "execution_count": 95,
      "outputs": []
    },
    {
      "cell_type": "markdown",
      "source": [
        "### Algorytm genetyczny"
      ],
      "metadata": {
        "id": "ItGPoiOPftgH"
      }
    },
    {
      "cell_type": "code",
      "source": [
        "ga_instance = pygad.GA(gene_space=gene_space,\n",
        "                       gene_type=int,\n",
        "                       num_generations=num_generations,\n",
        "                       num_parents_mating=num_parents_mating,\n",
        "                       fitness_func=fitness_function,\n",
        "                       sol_per_pop=sol_per_pop,\n",
        "                       num_genes=num_genes,\n",
        "                       parent_selection_type=parent_selection_type,\n",
        "                       keep_parents=keep_parents,\n",
        "                       crossover_type=crossover_type,\n",
        "                       mutation_type=mutation_type,\n",
        "                       mutation_percent_genes=mutation_percent_genes)"
      ],
      "metadata": {
        "id": "WFVxAA09frRS"
      },
      "execution_count": 96,
      "outputs": []
    },
    {
      "cell_type": "markdown",
      "source": [
        "### Wynik"
      ],
      "metadata": {
        "id": "3KGSI4dCf3nO"
      }
    },
    {
      "cell_type": "code",
      "source": [
        "start = time.time()\n",
        "\n",
        "ga_instance.run()\n",
        "\n",
        "solution, solution_fitness, solution_idx = ga_instance.best_solution()\n",
        "solution = numpy.reshape(solution, (7,5))\n",
        "\n",
        "print(\"Parameters of the best solution : \\n {solution}\".format(solution=solution))\n",
        "print(\"Fitness value of the best solution = {solution_fitness}\".format(solution_fitness=solution_fitness))\n",
        "\n",
        "end = time.time()\n",
        "\n",
        "print(\"The length of the algorithm\", end - start)\n",
        "\n",
        "ga_instance.plot_fitness()"
      ],
      "metadata": {
        "colab": {
          "base_uri": "https://localhost:8080/",
          "height": 757
        },
        "id": "1M9qDmkaf10Z",
        "outputId": "4e7c47b9-b1b5-4adf-854a-ffc4c658b19b"
      },
      "execution_count": 97,
      "outputs": [
        {
          "output_type": "stream",
          "name": "stdout",
          "text": [
            "Parameters of the best solution : \n",
            " [[1 0 0 0 1]\n",
            " [1 0 0 0 1]\n",
            " [1 0 0 0 1]\n",
            " [1 1 1 1 1]\n",
            " [1 0 0 0 1]\n",
            " [1 0 1 0 1]\n",
            " [1 0 0 0 1]]\n",
            "Fitness value of the best solution = -1\n",
            "The length of the algorithm 0.2361137866973877\n"
          ]
        },
        {
          "output_type": "display_data",
          "data": {
            "text/plain": [
              "<Figure size 432x288 with 1 Axes>"
            ],
            "image/png": "[encoded data removed]"
          },
          "metadata": {
            "needs_background": "light"
          }
        },
        {
          "output_type": "execute_result",
          "data": {
            "text/plain": [
              "<Figure size 432x288 with 1 Axes>"
            ],
            "image/png": "[encoded data removed]"
          },
          "metadata": {},
          "execution_count": 97
        }
      ]
    },
    {
      "cell_type": "code",
      "source": [
        "t = []\n",
        "sol = []\n",
        "for i in range(10):\n",
        "  start = time.time()\n",
        "\n",
        "  ga_instance.run()\n",
        "\n",
        "  solution, solution_fitness, solution_idx = ga_instance.best_solution()\n",
        "  solution = numpy.reshape(solution, (7,5))\n",
        "\n",
        "  end = time.time()\n",
        "  t.append(end-start)\n",
        "  sol.append(solution_fitness)\n",
        "\n",
        "print(\"Średni czas wykonywania algorytmu: \", numpy.mean(t))\n",
        "print(\"Średni bład algorytmu: \", numpy.mean(sol))"
      ],
      "metadata": {
        "colab": {
          "base_uri": "https://localhost:8080/"
        },
        "id": "iVUGFlTBpAc8",
        "outputId": "98f5a098-9fd8-4f43-8117-fc59a28356cd"
      },
      "execution_count": 98,
      "outputs": [
        {
          "output_type": "stream",
          "name": "stdout",
          "text": [
            "Średni czas wykonywania algorytmu:  0.13919692039489745\n",
            "Średni bład algorytmu:  -0.1\n"
          ]
        }
      ]
    },
    {
      "cell_type": "markdown",
      "source": [
        "### Wnioski"
      ],
      "metadata": {
        "id": "Pe9z_jj7pKVM"
      }
    },
    {
      "cell_type": "markdown",
      "source": [
        "Nasz algorytm prawidłowo przewiduje 34 na 35 pól Nonogramu, co jest wynikiem całkiem dobrym.\n",
        "Algorytm genetyczny szybko rozwiązuje Nonogram. Zajmuję mu to ok. 0.2 sekundy."
      ],
      "metadata": {
        "id": "2iNfs1gipMdg"
      }
    },
    {
      "cell_type": "markdown",
      "source": [
        "# Algorytm PSO"
      ],
      "metadata": {
        "id": "tIH0Lr6In_mg"
      }
    },
    {
      "cell_type": "markdown",
      "source": [
        "### Funkcja fitness"
      ],
      "metadata": {
        "id": "l4Yd4oLXoFAn"
      }
    },
    {
      "cell_type": "code",
      "source": [
        "def fitness_func2(solution):\n",
        "    solution = numpy.reshape(solution, (7,5))\n",
        "    fitness = numpy.sum(numpy.abs(table - solution))\n",
        "    return fitness"
      ],
      "metadata": {
        "id": "6atLlhR-n-vo"
      },
      "execution_count": 99,
      "outputs": []
    },
    {
      "cell_type": "markdown",
      "source": [
        "### Parametry PSO"
      ],
      "metadata": {
        "id": "MSHEm1DipyuN"
      }
    },
    {
      "cell_type": "code",
      "source": [
        "options = {'c1': 0.5, 'c2': 0.3, 'w':0.9, 'k':4, 'p':1}"
      ],
      "metadata": {
        "id": "Zr17NY0Lpt7t"
      },
      "execution_count": 100,
      "outputs": []
    },
    {
      "cell_type": "markdown",
      "source": [
        "### Wynik"
      ],
      "metadata": {
        "id": "3lz2V6utp109"
      }
    },
    {
      "cell_type": "code",
      "source": [
        "optimizer = ps.discrete.BinaryPSO(n_particles=7, dimensions=5, options=options)\n",
        "start2 = time.time()\n",
        "optimizer.optimize(fitness_func2, iters=60, verbose=True)\n",
        "end2 = time.time()\n",
        "print(\"The length of the algorithm\", end2 - start2)\n",
        "cost_history = optimizer.cost_history\n",
        "plot_cost_history(cost_history)\n",
        "plt.show()"
      ],
      "metadata": {
        "colab": {
          "base_uri": "https://localhost:8080/",
          "height": 602
        },
        "id": "-O7PiOU9p57Q",
        "outputId": "96c6f7ef-153e-4dc3-dc68-989226c89dd8"
      },
      "execution_count": 101,
      "outputs": [
        {
          "output_type": "stream",
          "name": "stderr",
          "text": [
            "2022-04-29 19:14:52,569 - pyswarms.discrete.binary - INFO - Optimize for 60 iters with {'c1': 0.5, 'c2': 0.3, 'w': 0.9, 'k': 4, 'p': 1}\n",
            "pyswarms.discrete.binary: 100%|██████████|60/60, best_cost=3\n",
            "2022-04-29 19:14:52,742 - pyswarms.discrete.binary - INFO - Optimization finished | best cost: 3.0, best pos: [1 0 0 0 1]\n"
          ]
        },
        {
          "output_type": "stream",
          "name": "stdout",
          "text": [
            "The length of the algorithm 0.17413806915283203\n"
          ]
        },
        {
          "output_type": "display_data",
          "data": {
            "text/plain": [
              "<Figure size 720x576 with 1 Axes>"
            ],
            "image/png": "[encoded data removed]"
          },
          "metadata": {
            "needs_background": "light"
          }
        }
      ]
    },
    {
      "cell_type": "markdown",
      "source": [
        "### Wnioski"
      ],
      "metadata": {
        "id": "iBJj3aMvueQt"
      }
    },
    {
      "cell_type": "markdown",
      "source": [
        "Niestety nie udało się znaleźć tablicy rozwiązań za pomocą algorytmu PSO. Za to poprawnie rozwiązuje i wyświetla pierwszy wiersz Nonogramu."
      ],
      "metadata": {
        "id": "wINtLOphuHy2"
      }
    },
    {
      "cell_type": "markdown",
      "source": [
        "### Przykład zastosowania algorytmu genetycznego na większym obrazku"
      ],
      "metadata": {
        "id": "VvGNp7L0k9dI"
      }
    },
    {
      "cell_type": "code",
      "source": [
        "table = numpy.array([[1,0,0,1,0,1,1,1,1,0,1,0,0,0,0,1,0,0,0,0,0,1,1,1,0],\n",
        "                      [1,0,0,1,0,1,0,0,0,0,1,0,0,0,0,1,0,0,0,0,1,0,0,0,1],\n",
        "                      [1,1,1,1,0,1,1,1,1,0,1,0,0,0,0,1,0,0,0,0,1,0,0,0,1],\n",
        "                      [1,0,0,1,0,1,0,0,0,0,1,0,0,0,0,1,0,0,0,0,1,0,0,0,1],\n",
        "                      [1,0,0,1,0,1,1,1,1,0,1,1,1,1,0,1,1,1,1,0,0,1,1,1,0]])\n",
        "\n",
        "kolumny = [[5],[1],[1],[5],[0],[5],[1,1,1],[1,1,1],\n",
        "           [1,1,1],[0],[5],[1],[1],[1],[0],[5],\n",
        "           [1],[1],[1],[0],[3],[1,1],[1,1],[1,1],[3]]\n",
        "\n",
        "wiersze = [[1,1,4,1,1,3],[1,1,1,1,1,1,1],[4,4,1,1,1,1],\n",
        "           [1,1,1,1,1,1,1,],[1,1,4,4,4,3]]"
      ],
      "metadata": {
        "id": "vlr7P5Dlf3Ew"
      },
      "execution_count": 102,
      "outputs": []
    },
    {
      "cell_type": "code",
      "source": [
        "def fitness_func(solution, solution_idx):\n",
        "    solution = numpy.reshape(solution, (5,25))\n",
        "    fitness = -numpy.sum(numpy.abs(table - solution))\n",
        "    return fitness\n",
        "\n",
        "fitness_function = fitness_func\n",
        "\n",
        "gene_space = [0,1]\n",
        "sol_per_pop = 8\n",
        "num_genes = len(kolumny)*len(wiersze)\n",
        "\n",
        "num_parents_mating = 5\n",
        "num_generations = 200\n",
        "keep_parents = 2\n",
        "\n",
        "parent_selection_type = \"sss\"\n",
        "\n",
        "crossover_type = \"single_point\"\n",
        "\n",
        "mutation_type = \"random\"\n",
        "mutation_percent_genes = 6\n",
        "\n",
        "ga_instance = pygad.GA(gene_space=gene_space,\n",
        "                       gene_type=int,\n",
        "                       num_generations=num_generations,\n",
        "                       num_parents_mating=num_parents_mating,\n",
        "                       fitness_func=fitness_function,\n",
        "                       sol_per_pop=sol_per_pop,\n",
        "                       num_genes=num_genes,\n",
        "                       parent_selection_type=parent_selection_type,\n",
        "                       keep_parents=keep_parents,\n",
        "                       crossover_type=crossover_type,\n",
        "                       mutation_type=mutation_type,\n",
        "                       mutation_percent_genes=mutation_percent_genes)"
      ],
      "metadata": {
        "id": "Zl-wCEIjk8iI"
      },
      "execution_count": 103,
      "outputs": []
    },
    {
      "cell_type": "code",
      "source": [
        "start = time.time()\n",
        "\n",
        "ga_instance.run()\n",
        "\n",
        "solution, solution_fitness, solution_idx = ga_instance.best_solution()\n",
        "solution = numpy.reshape(solution, (5,25))\n",
        "print(\"Parameters of the best solution : \\n {solution}\".format(solution=solution))\n",
        "print(\"Fitness value of the best solution = {solution_fitness}\".format(solution_fitness=solution_fitness))\n",
        "end = time.time()\n",
        "print(\"The length of the algorithm\", end - start)\n",
        "ga_instance.plot_fitness()"
      ],
      "metadata": {
        "colab": {
          "base_uri": "https://localhost:8080/",
          "height": 722
        },
        "id": "q3ddixCjlURZ",
        "outputId": "7ca29612-24bb-44f1-9d08-e1090825a9ce"
      },
      "execution_count": 104,
      "outputs": [
        {
          "output_type": "stream",
          "name": "stdout",
          "text": [
            "Parameters of the best solution : \n",
            " [[1 0 1 1 0 1 1 1 1 0 1 0 0 0 1 1 0 1 0 0 0 0 1 1 0]\n",
            " [0 0 0 1 0 1 0 0 0 0 1 0 0 1 0 1 0 0 0 0 1 0 0 0 1]\n",
            " [0 0 1 1 1 1 1 1 1 0 1 0 0 0 1 1 0 0 1 0 1 0 0 0 1]\n",
            " [1 1 0 1 1 1 0 0 0 0 1 0 0 0 0 1 0 0 0 0 1 0 0 0 1]\n",
            " [1 0 0 1 0 1 1 0 1 0 1 1 1 1 1 1 1 1 1 0 0 1 1 1 0]]\n",
            "Fitness value of the best solution = -15\n",
            "The length of the algorithm 0.31981515884399414\n"
          ]
        },
        {
          "output_type": "display_data",
          "data": {
            "text/plain": [
              "<Figure size 432x288 with 1 Axes>"
            ],
            "image/png": "[encoded data removed]"
          },
          "metadata": {
            "needs_background": "light"
          }
        },
        {
          "output_type": "execute_result",
          "data": {
            "text/plain": [
              "<Figure size 432x288 with 1 Axes>"
            ],
            "image/png": "[encoded data removed]"
          },
          "metadata": {},
          "execution_count": 104
        }
      ]
    },
    {
      "cell_type": "code",
      "source": [
        "t = []\n",
        "sol = []\n",
        "for i in range(10):\n",
        "  start = time.time()\n",
        "\n",
        "  ga_instance.run()\n",
        "\n",
        "  solution, solution_fitness, solution_idx = ga_instance.best_solution()\n",
        "  solution = numpy.reshape(solution, (5,25))\n",
        "\n",
        "  end = time.time()\n",
        "  t.append(end-start)\n",
        "  sol.append(solution_fitness)\n",
        "\n",
        "print(\"Średni czas wykonywania algorytmu: \", numpy.mean(t))\n",
        "print(\"Średni bład algorytmu: \", numpy.mean(sol))"
      ],
      "metadata": {
        "colab": {
          "base_uri": "https://localhost:8080/"
        },
        "id": "ge6mF96pmAQf",
        "outputId": "91d133d5-9a95-4329-e897-df8046fbbf7e"
      },
      "execution_count": 105,
      "outputs": [
        {
          "output_type": "stream",
          "name": "stdout",
          "text": [
            "Średni czas wykonywania algorytmu:  0.2063953161239624\n",
            "Średni bład algorytmu:  -9.8\n"
          ]
        }
      ]
    },
    {
      "cell_type": "markdown",
      "source": [
        "### Wnioski"
      ],
      "metadata": {
        "id": "vLJ1Espdv7GV"
      }
    },
    {
      "cell_type": "markdown",
      "source": [
        "Jak widać jest to szybka metoda na rozwiązywanie Nonogramów, jednak nie najlepsza ponieważ robi dosyć duże błędy i im większy Nonogram tym tych błędów jest więcej."
      ],
      "metadata": {
        "id": "kRe7AJfAniUe"
      }
    }
  ]
}